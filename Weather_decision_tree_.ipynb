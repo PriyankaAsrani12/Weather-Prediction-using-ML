{
  "nbformat": 4,
  "nbformat_minor": 0,
  "metadata": {
    "colab": {
      "name": "Weather-decision tree .ipynb",
      "provenance": [],
      "collapsed_sections": []
    },
    "kernelspec": {
      "name": "python3",
      "display_name": "Python 3"
    },
    "language_info": {
      "name": "python"
    }
  },
  "cells": [
    {
      "cell_type": "markdown",
      "metadata": {
        "id": "aZbnUjV52m0l"
      },
      "source": [
        "**Importing all the required libraries**\n"
      ]
    },
    {
      "cell_type": "code",
      "metadata": {
        "id": "Z5_JwSbQ0dLb"
      },
      "source": [
        "import numpy as np\n",
        "import pandas as pd\n",
        "from sklearn.tree import DecisionTreeRegressor\n",
        "from sklearn.model_selection import train_test_split, cross_val_score\n",
        "from sklearn.metrics import confusion_matrix, accuracy_score, classification_report\n",
        "import matplotlib.pyplot as plt"
      ],
      "execution_count": 1,
      "outputs": []
    },
    {
      "cell_type": "markdown",
      "metadata": {
        "id": "KXgaFrPX2zCq"
      },
      "source": [
        "**Reading the dataset using pandas library**"
      ]
    },
    {
      "cell_type": "code",
      "metadata": {
        "colab": {
          "base_uri": "https://localhost:8080/",
          "height": 195
        },
        "id": "1eYgBBBm1MlB",
        "outputId": "95f97a95-bf02-4ddb-df0e-70298a87fd59"
      },
      "source": [
        "dataset=pd.read_csv('Weather prediction dataset - Sheet1.csv')\n",
        "dataset.head()"
      ],
      "execution_count": 2,
      "outputs": [
        {
          "output_type": "execute_result",
          "data": {
            "text/html": [
              "<div>\n",
              "<style scoped>\n",
              "    .dataframe tbody tr th:only-of-type {\n",
              "        vertical-align: middle;\n",
              "    }\n",
              "\n",
              "    .dataframe tbody tr th {\n",
              "        vertical-align: top;\n",
              "    }\n",
              "\n",
              "    .dataframe thead th {\n",
              "        text-align: right;\n",
              "    }\n",
              "</style>\n",
              "<table border=\"1\" class=\"dataframe\">\n",
              "  <thead>\n",
              "    <tr style=\"text-align: right;\">\n",
              "      <th></th>\n",
              "      <th>Day</th>\n",
              "      <th>Month</th>\n",
              "      <th>Year</th>\n",
              "      <th>Humidity</th>\n",
              "      <th>Max Temperature</th>\n",
              "      <th>Min Temperature</th>\n",
              "      <th>Rainfall</th>\n",
              "      <th>Sea Level Pressure</th>\n",
              "      <th>Sunshine</th>\n",
              "      <th>Wind Speed</th>\n",
              "      <th>Cloud</th>\n",
              "    </tr>\n",
              "  </thead>\n",
              "  <tbody>\n",
              "    <tr>\n",
              "      <th>0</th>\n",
              "      <td>1</td>\n",
              "      <td>1</td>\n",
              "      <td>1988</td>\n",
              "      <td>77</td>\n",
              "      <td>26.7</td>\n",
              "      <td>12.9</td>\n",
              "      <td>0</td>\n",
              "      <td>1016.9</td>\n",
              "      <td>8.4</td>\n",
              "      <td>0.0</td>\n",
              "      <td>0</td>\n",
              "    </tr>\n",
              "    <tr>\n",
              "      <th>1</th>\n",
              "      <td>2</td>\n",
              "      <td>1</td>\n",
              "      <td>1988</td>\n",
              "      <td>76</td>\n",
              "      <td>26.0</td>\n",
              "      <td>12.9</td>\n",
              "      <td>0</td>\n",
              "      <td>1016.4</td>\n",
              "      <td>8.4</td>\n",
              "      <td>0.0</td>\n",
              "      <td>0</td>\n",
              "    </tr>\n",
              "    <tr>\n",
              "      <th>2</th>\n",
              "      <td>3</td>\n",
              "      <td>1</td>\n",
              "      <td>1988</td>\n",
              "      <td>73</td>\n",
              "      <td>27.5</td>\n",
              "      <td>14.5</td>\n",
              "      <td>0</td>\n",
              "      <td>1014.8</td>\n",
              "      <td>7.8</td>\n",
              "      <td>2.0</td>\n",
              "      <td>1</td>\n",
              "    </tr>\n",
              "    <tr>\n",
              "      <th>3</th>\n",
              "      <td>4</td>\n",
              "      <td>1</td>\n",
              "      <td>1988</td>\n",
              "      <td>71</td>\n",
              "      <td>27.2</td>\n",
              "      <td>15.8</td>\n",
              "      <td>0</td>\n",
              "      <td>1015.9</td>\n",
              "      <td>6.4</td>\n",
              "      <td>5.0</td>\n",
              "      <td>1</td>\n",
              "    </tr>\n",
              "    <tr>\n",
              "      <th>4</th>\n",
              "      <td>5</td>\n",
              "      <td>1</td>\n",
              "      <td>1988</td>\n",
              "      <td>75</td>\n",
              "      <td>27.8</td>\n",
              "      <td>15.4</td>\n",
              "      <td>0</td>\n",
              "      <td>1016.1</td>\n",
              "      <td>8.0</td>\n",
              "      <td>3.5</td>\n",
              "      <td>1</td>\n",
              "    </tr>\n",
              "  </tbody>\n",
              "</table>\n",
              "</div>"
            ],
            "text/plain": [
              "   Day  Month  Year  Humidity  ...  Sea Level Pressure  Sunshine  Wind Speed  Cloud\n",
              "0    1      1  1988        77  ...              1016.9       8.4         0.0      0\n",
              "1    2      1  1988        76  ...              1016.4       8.4         0.0      0\n",
              "2    3      1  1988        73  ...              1014.8       7.8         2.0      1\n",
              "3    4      1  1988        71  ...              1015.9       6.4         5.0      1\n",
              "4    5      1  1988        75  ...              1016.1       8.0         3.5      1\n",
              "\n",
              "[5 rows x 11 columns]"
            ]
          },
          "metadata": {
            "tags": []
          },
          "execution_count": 2
        }
      ]
    },
    {
      "cell_type": "markdown",
      "metadata": {
        "id": "IwV_Dzk124b4"
      },
      "source": [
        "**Declaring the target variable which is to be predicted and the remaining features from the dataset**"
      ]
    },
    {
      "cell_type": "code",
      "metadata": {
        "id": "5yWa0-GB1kox"
      },
      "source": [
        "features = ['Day','Month','Year','Humidity','Max Temperature','Min Temperature',\n",
        "            'Rainfall','Sea Level Pressure','Sunshine','Wind Speed']\n",
        "target = 'Cloud'"
      ],
      "execution_count": 3,
      "outputs": []
    },
    {
      "cell_type": "markdown",
      "metadata": {
        "id": "nT49EQBr3FcR"
      },
      "source": [
        "**Splitting the dataset into train and test dataset in the ratio 70:30**\n",
        "\n"
      ]
    },
    {
      "cell_type": "code",
      "metadata": {
        "id": "W39tbjx31oLW"
      },
      "source": [
        "from sklearn.model_selection import train_test_split\n",
        "x_train, x_test, y_train, y_test = train_test_split(dataset[features], dataset[target],\n",
        "                                                    train_size=0.7, test_size=0.3, shuffle=False)"
      ],
      "execution_count": 4,
      "outputs": []
    },
    {
      "cell_type": "markdown",
      "metadata": {
        "id": "h3Bzlvn23-Cl"
      },
      "source": [
        "**Since the data is in different units we standardise it using the StandardScaler library\n",
        "The idea behind StandardScaler is that it will transform your data such that its distribution will have a mean value 0 and standard deviation of 1**"
      ]
    },
    {
      "cell_type": "code",
      "metadata": {
        "id": "6iMTiPMr43kX",
        "colab": {
          "base_uri": "https://localhost:8080/"
        },
        "outputId": "146ba5ca-a0f7-44d5-9a4a-2a8a6710da07"
      },
      "source": [
        "from sklearn.preprocessing import StandardScaler    \n",
        "st_x= StandardScaler()    \n",
        "x_train= st_x.fit_transform(x_train)    \n",
        "x_test= st_x.transform(x_test)  \n",
        "print(x_train)"
      ],
      "execution_count": 5,
      "outputs": [
        {
          "output_type": "stream",
          "text": [
            "[[-1.61245155  0.          0.          0.75019377 -0.8231267  -1.33403841\n",
            "   0.          1.14269236  0.42513637 -1.08022728]\n",
            " [-1.36438208  0.          0.          0.27279774 -1.76110828 -1.33403841\n",
            "   0.          0.68033129  0.42513637 -1.08022728]\n",
            " [-1.11631261  0.          0.         -1.15939038  0.24885226  0.03671665\n",
            "   0.         -0.79922413  0.15043287  0.10590464]\n",
            " [-0.86824314  0.          0.         -2.11418245 -0.15313985  1.15045514\n",
            "   0.          0.21797022 -0.49054196  1.88510251]\n",
            " [-0.62017367  0.          0.         -0.2045983   0.65084437  0.80776638\n",
            "   0.          0.40291465  0.2420007   0.99550357]\n",
            " [-0.3721042   0.          0.         -1.15939038  1.85682069  1.92150487\n",
            "   0.         -1.53900184 -3.42071262  0.10590464]\n",
            " [-0.12403473  0.          0.          0.27279774  0.11485489  0.97911076\n",
            "   0.         -0.70675192  0.42513637 -1.08022728]\n",
            " [ 0.12403473  0.          0.          1.22758981 -0.68912933 -0.3916443\n",
            "   0.          0.49538686  0.2420007  -1.08022728]\n",
            " [ 0.3721042   0.          0.          1.70498585 -1.35911617 -0.4773165\n",
            "   0.          0.86527572 -0.35319021  0.10590464]\n",
            " [ 0.62017367  0.          0.          0.75019377 -0.68912933 -0.30597211\n",
            "   0.          0.95774793  0.60827203  0.10590464]\n",
            " [ 0.86824314  0.          0.         -0.68199434 -0.15313985 -0.99134964\n",
            "   0.          1.23516457  0.33356853  0.10590464]\n",
            " [ 1.11631261  0.          0.         -0.2045983   0.9188391  -0.99134964\n",
            "   0.          0.21797022  0.69983987 -1.08022728]\n",
            " [ 1.36438208  0.          0.         -0.2045983   1.58882595 -0.22029992\n",
            "   0.         -1.53900184  0.47092028  0.10590464]\n",
            " [ 1.61245155  0.          0.          0.75019377  0.24885226  1.15045514\n",
            "   0.         -1.63147406  0.2420007   1.88510251]]\n"
          ],
          "name": "stdout"
        }
      ]
    },
    {
      "cell_type": "markdown",
      "metadata": {
        "id": "iJpeH6ZT40As"
      },
      "source": [
        "**We have used DescisionTreeClassifier to classify the target variable ie cloudy , which would classify as cloudy-1 or not cloudy 0. The criterion used is gini index as we achieved maximum accuracy using it and max_depth is 6 after trying many combinations**\n"
      ]
    },
    {
      "cell_type": "code",
      "metadata": {
        "colab": {
          "base_uri": "https://localhost:8080/"
        },
        "id": "3FsHi7QYBzr7",
        "outputId": "24e0ece7-c218-4bb4-bd61-12cf6ec5e572"
      },
      "source": [
        "from sklearn.tree import DecisionTreeClassifier\n",
        "model = DecisionTreeClassifier(criterion='gini', max_depth=6)\n",
        "model.fit(x_train, y_train)"
      ],
      "execution_count": 6,
      "outputs": [
        {
          "output_type": "execute_result",
          "data": {
            "text/plain": [
              "DecisionTreeClassifier(ccp_alpha=0.0, class_weight=None, criterion='gini',\n",
              "                       max_depth=6, max_features=None, max_leaf_nodes=None,\n",
              "                       min_impurity_decrease=0.0, min_impurity_split=None,\n",
              "                       min_samples_leaf=1, min_samples_split=2,\n",
              "                       min_weight_fraction_leaf=0.0, presort='deprecated',\n",
              "                       random_state=None, splitter='best')"
            ]
          },
          "metadata": {
            "tags": []
          },
          "execution_count": 6
        }
      ]
    },
    {
      "cell_type": "markdown",
      "metadata": {
        "id": "fu-vOlwR5RAP"
      },
      "source": [
        "**Printed the training accuracy and testing accuracy**\n"
      ]
    },
    {
      "cell_type": "code",
      "metadata": {
        "colab": {
          "base_uri": "https://localhost:8080/"
        },
        "id": "D7gsWVqm16X0",
        "outputId": "f5bc51db-0e99-400f-f2e2-ca039b983e90"
      },
      "source": [
        "print (\"Training Accuracy: {}\".format(model.score(x_train, y_train)))\n",
        "predicted = model.predict(x_test)\n",
        "print (\"Testing Accuracy: {}\".format(accuracy_score(y_test, predicted)))"
      ],
      "execution_count": 7,
      "outputs": [
        {
          "output_type": "stream",
          "text": [
            "Training Accuracy: 1.0\n",
            "Testing Accuracy: 0.8571428571428571\n"
          ],
          "name": "stdout"
        }
      ]
    },
    {
      "cell_type": "markdown",
      "metadata": {
        "id": "dyaLtv98CUN4"
      },
      "source": [
        "**Finding out the cross validation accuracy for 3 folds**"
      ]
    },
    {
      "cell_type": "code",
      "metadata": {
        "colab": {
          "base_uri": "https://localhost:8080/"
        },
        "id": "kdz5DkD-CP80",
        "outputId": "17ae662c-5b15-4d2c-e5d0-ad21acb1fcc9"
      },
      "source": [
        "print(\"Cross Validation Accuracy: \\n\")\n",
        "cv_accuracy = cross_val_score(estimator=model, X=x_train, y=y_train, cv=3)\n",
        "print(\"Accuracy using 3 folds: \")\n",
        "print(cv_accuracy)\n"
      ],
      "execution_count": 10,
      "outputs": [
        {
          "output_type": "stream",
          "text": [
            "Cross Validation Accuracy: \n",
            "\n",
            "Accuracy using 3 folds: \n",
            "[1.   0.8  0.75]\n"
          ],
          "name": "stdout"
        }
      ]
    },
    {
      "cell_type": "markdown",
      "metadata": {
        "id": "p8ig1T1bCKRX"
      },
      "source": [
        "**Printing the mean accuracy and Standard Deviation**"
      ]
    },
    {
      "cell_type": "code",
      "metadata": {
        "colab": {
          "base_uri": "https://localhost:8080/"
        },
        "id": "EwlH95YCCJvL",
        "outputId": "2c1664db-79f9-4785-f646-e20e988edddd"
      },
      "source": [
        "print(\"Mean accuracy: {}\".format(cv_accuracy.mean()))\n",
        "print(\"Standard Deviation: {}\".format(cv_accuracy.std()))"
      ],
      "execution_count": 11,
      "outputs": [
        {
          "output_type": "stream",
          "text": [
            "Mean accuracy: 0.85\n",
            "Standard Deviation: 0.10801234497346433\n"
          ],
          "name": "stdout"
        }
      ]
    },
    {
      "cell_type": "markdown",
      "metadata": {
        "id": "Z_g7TfAeActs"
      },
      "source": [
        "**Plotted the confusion matrix for it**"
      ]
    },
    {
      "cell_type": "code",
      "metadata": {
        "colab": {
          "base_uri": "https://localhost:8080/"
        },
        "id": "_Jy10Ov22d_R",
        "outputId": "ea441b21-681e-4eb1-e653-3e15a3e6275a"
      },
      "source": [
        "from sklearn.metrics import confusion_matrix,accuracy_score,plot_confusion_matrix\n",
        "cm = confusion_matrix(y_test,predicted)\n",
        "acc = accuracy_score(y_test,predicted)\n",
        "print(cm)\n",
        "print(acc)\n"
      ],
      "execution_count": 12,
      "outputs": [
        {
          "output_type": "stream",
          "text": [
            "[[6 1]\n",
            " [0 0]]\n",
            "0.8571428571428571\n"
          ],
          "name": "stdout"
        }
      ]
    },
    {
      "cell_type": "markdown",
      "metadata": {
        "id": "sUT0i00bAhEK"
      },
      "source": [
        "**Plotted the graphical confusion martix**"
      ]
    },
    {
      "cell_type": "code",
      "metadata": {
        "colab": {
          "base_uri": "https://localhost:8080/",
          "height": 334
        },
        "id": "WMSwEA3hDI5E",
        "outputId": "9ab5d2a5-a94e-4eeb-c0a1-9959eba86dd9"
      },
      "source": [
        "from sklearn.metrics import confusion_matrix,accuracy_score,plot_confusion_matrix\n",
        "cm = confusion_matrix(y_test,predicted)\n",
        "acc = accuracy_score(y_test,predicted)\n",
        "print(cm)\n",
        "print(acc)\n",
        "plot_confusion_matrix(model,x_test,y_test,cmap=plt.cm.Blues)\n",
        "plt.show()"
      ],
      "execution_count": 13,
      "outputs": [
        {
          "output_type": "stream",
          "text": [
            "[[6 1]\n",
            " [0 0]]\n",
            "0.8571428571428571\n"
          ],
          "name": "stdout"
        },
        {
          "output_type": "display_data",
          "data": {
            "image/png": "[encoded data removed]",
            "text/plain": [
              "<Figure size 432x288 with 2 Axes>"
            ]
          },
          "metadata": {
            "tags": [],
            "needs_background": "light"
          }
        }
      ]
    },
    {
      "cell_type": "markdown",
      "metadata": {
        "id": "2OSPiNCuAnKn"
      },
      "source": [
        "**Displayed the classification report with parameters like precision , recall , f1-score and accuracy of the model**"
      ]
    },
    {
      "cell_type": "code",
      "metadata": {
        "colab": {
          "base_uri": "https://localhost:8080/"
        },
        "id": "6ghsvQK02eaq",
        "outputId": "87ef38ae-cec3-4825-e3cc-1eb0ccda812c"
      },
      "source": [
        "print('Precision, Recall and f-1 Scores for Decision Tree Classifier\\n')\n",
        "print(classification_report(y_test, predicted))"
      ],
      "execution_count": 14,
      "outputs": [
        {
          "output_type": "stream",
          "text": [
            "Precision, Recall and f-1 Scores for Decision Tree Classifier\n",
            "\n",
            "              precision    recall  f1-score   support\n",
            "\n",
            "           0       1.00      0.86      0.92         7\n",
            "           1       0.00      0.00      0.00         0\n",
            "\n",
            "    accuracy                           0.86         7\n",
            "   macro avg       0.50      0.43      0.46         7\n",
            "weighted avg       1.00      0.86      0.92         7\n",
            "\n"
          ],
          "name": "stdout"
        },
        {
          "output_type": "stream",
          "text": [
            "/usr/local/lib/python3.7/dist-packages/sklearn/metrics/_classification.py:1272: UndefinedMetricWarning: Recall and F-score are ill-defined and being set to 0.0 in labels with no true samples. Use `zero_division` parameter to control this behavior.\n",
            "  _warn_prf(average, modifier, msg_start, len(result))\n"
          ],
          "name": "stderr"
        }
      ]
    },
    {
      "cell_type": "markdown",
      "metadata": {
        "id": "qFnP9gmTG1qb"
      },
      "source": [
        "**Visualization of the decisionTree Classifier according to our dataset**"
      ]
    },
    {
      "cell_type": "code",
      "metadata": {
        "colab": {
          "base_uri": "https://localhost:8080/",
          "height": 598
        },
        "id": "rI_bDUj-HURg",
        "outputId": "73e8e6e8-482f-4c6b-a06c-cce9cf4666f7"
      },
      "source": [
        "import graphviz\n",
        "dot_data = tree.export_graphviz(model, out_file=None, \n",
        "                                feature_names=features,  \n",
        "                                class_names=target,\n",
        "                                filled=True)\n",
        "graph = graphviz.Source(dot_data, format=\"png\") \n",
        "graph"
      ],
      "execution_count": 36,
      "outputs": [
        {
          "output_type": "execute_result",
          "data": {
            "text/plain": [
              "<graphviz.files.Source at 0x7fe95f40d7d0>"
            ],
            "image/svg+xml": "<?xml version=\"1.0\" encoding=\"UTF-8\" standalone=\"no\"?>\n<!DOCTYPE svg PUBLIC \"-//W3C//DTD SVG 1.1//EN\"\n \"http://www.w3.org/Graphics/SVG/1.1/DTD/svg11.dtd\">\n<!-- Generated by graphviz version 2.40.1 (20161225.0304)\n -->\n<!-- Title: Tree Pages: 1 -->\n<svg width=\"364pt\" height=\"433pt\"\n viewBox=\"0.00 0.00 364.00 433.00\" xmlns=\"http://www.w3.org/2000/svg\" xmlns:xlink=\"http://www.w3.org/1999/xlink\">\n<g id=\"graph0\" class=\"graph\" transform=\"scale(1 1) rotate(0) translate(4 429)\">\n<title>Tree</title>\n<polygon fill=\"#ffffff\" stroke=\"transparent\" points=\"-4,4 -4,-429 360,-429 360,4 -4,4\"/>\n<!-- 0 -->\n<g id=\"node1\" class=\"node\">\n<title>0</title>\n<polygon fill=\"#f3c7a7\" stroke=\"#000000\" points=\"180.5,-425 52.5,-425 52.5,-342 180.5,-342 180.5,-425\"/>\n<text text-anchor=\"middle\" x=\"116.5\" y=\"-409.8\" font-family=\"Times,serif\" font-size=\"14.00\" fill=\"#000000\">Sunshine &lt;= 0.196</text>\n<text text-anchor=\"middle\" x=\"116.5\" y=\"-394.8\" font-family=\"Times,serif\" font-size=\"14.00\" fill=\"#000000\">gini = 0.459</text>\n<text text-anchor=\"middle\" x=\"116.5\" y=\"-379.8\" font-family=\"Times,serif\" font-size=\"14.00\" fill=\"#000000\">samples = 14</text>\n<text text-anchor=\"middle\" x=\"116.5\" y=\"-364.8\" font-family=\"Times,serif\" font-size=\"14.00\" fill=\"#000000\">value = [9, 5]</text>\n<text text-anchor=\"middle\" x=\"116.5\" y=\"-349.8\" font-family=\"Times,serif\" font-size=\"14.00\" fill=\"#000000\">class = C</text>\n</g>\n<!-- 1 -->\n<g id=\"node2\" class=\"node\">\n<title>1</title>\n<polygon fill=\"#399de5\" stroke=\"#000000\" points=\"95,-298.5 0,-298.5 0,-230.5 95,-230.5 95,-298.5\"/>\n<text text-anchor=\"middle\" x=\"47.5\" y=\"-283.3\" font-family=\"Times,serif\" font-size=\"14.00\" fill=\"#000000\">gini = 0.0</text>\n<text text-anchor=\"middle\" x=\"47.5\" y=\"-268.3\" font-family=\"Times,serif\" font-size=\"14.00\" fill=\"#000000\">samples = 4</text>\n<text text-anchor=\"middle\" x=\"47.5\" y=\"-253.3\" font-family=\"Times,serif\" font-size=\"14.00\" fill=\"#000000\">value = [0, 4]</text>\n<text text-anchor=\"middle\" x=\"47.5\" y=\"-238.3\" font-family=\"Times,serif\" font-size=\"14.00\" fill=\"#000000\">class = l</text>\n</g>\n<!-- 0&#45;&gt;1 -->\n<g id=\"edge1\" class=\"edge\">\n<title>0&#45;&gt;1</title>\n<path fill=\"none\" stroke=\"#000000\" d=\"M92.3671,-341.8796C85.9275,-330.7735 78.9566,-318.7513 72.4729,-307.5691\"/>\n<polygon fill=\"#000000\" stroke=\"#000000\" points=\"75.4409,-305.7102 67.3969,-298.8149 69.3852,-309.2215 75.4409,-305.7102\"/>\n<text text-anchor=\"middle\" x=\"60.9713\" y=\"-319.2751\" font-family=\"Times,serif\" font-size=\"14.00\" fill=\"#000000\">True</text>\n</g>\n<!-- 2 -->\n<g id=\"node3\" class=\"node\">\n<title>2</title>\n<polygon fill=\"#e88f4f\" stroke=\"#000000\" points=\"258,-306 113,-306 113,-223 258,-223 258,-306\"/>\n<text text-anchor=\"middle\" x=\"185.5\" y=\"-290.8\" font-family=\"Times,serif\" font-size=\"14.00\" fill=\"#000000\">Wind Speed &lt;= 0.551</text>\n<text text-anchor=\"middle\" x=\"185.5\" y=\"-275.8\" font-family=\"Times,serif\" font-size=\"14.00\" fill=\"#000000\">gini = 0.18</text>\n<text text-anchor=\"middle\" x=\"185.5\" y=\"-260.8\" font-family=\"Times,serif\" font-size=\"14.00\" fill=\"#000000\">samples = 10</text>\n<text text-anchor=\"middle\" x=\"185.5\" y=\"-245.8\" font-family=\"Times,serif\" font-size=\"14.00\" fill=\"#000000\">value = [9, 1]</text>\n<text text-anchor=\"middle\" x=\"185.5\" y=\"-230.8\" font-family=\"Times,serif\" font-size=\"14.00\" fill=\"#000000\">class = C</text>\n</g>\n<!-- 0&#45;&gt;2 -->\n<g id=\"edge2\" class=\"edge\">\n<title>0&#45;&gt;2</title>\n<path fill=\"none\" stroke=\"#000000\" d=\"M140.6329,-341.8796C145.6461,-333.2335 150.9813,-324.0322 156.1581,-315.1042\"/>\n<polygon fill=\"#000000\" stroke=\"#000000\" points=\"159.2758,-316.7047 161.2641,-306.2981 153.2202,-313.1934 159.2758,-316.7047\"/>\n<text text-anchor=\"middle\" x=\"167.6897\" y=\"-326.7582\" font-family=\"Times,serif\" font-size=\"14.00\" fill=\"#000000\">False</text>\n</g>\n<!-- 3 -->\n<g id=\"node4\" class=\"node\">\n<title>3</title>\n<polygon fill=\"#e58139\" stroke=\"#000000\" points=\"166,-179.5 71,-179.5 71,-111.5 166,-111.5 166,-179.5\"/>\n<text text-anchor=\"middle\" x=\"118.5\" y=\"-164.3\" font-family=\"Times,serif\" font-size=\"14.00\" fill=\"#000000\">gini = 0.0</text>\n<text text-anchor=\"middle\" x=\"118.5\" y=\"-149.3\" font-family=\"Times,serif\" font-size=\"14.00\" fill=\"#000000\">samples = 8</text>\n<text text-anchor=\"middle\" x=\"118.5\" y=\"-134.3\" font-family=\"Times,serif\" font-size=\"14.00\" fill=\"#000000\">value = [8, 0]</text>\n<text text-anchor=\"middle\" x=\"118.5\" y=\"-119.3\" font-family=\"Times,serif\" font-size=\"14.00\" fill=\"#000000\">class = C</text>\n</g>\n<!-- 2&#45;&gt;3 -->\n<g id=\"edge3\" class=\"edge\">\n<title>2&#45;&gt;3</title>\n<path fill=\"none\" stroke=\"#000000\" d=\"M162.0667,-222.8796C155.8137,-211.7735 149.0448,-199.7513 142.749,-188.5691\"/>\n<polygon fill=\"#000000\" stroke=\"#000000\" points=\"145.7761,-186.8116 137.8202,-179.8149 139.6765,-190.2459 145.7761,-186.8116\"/>\n</g>\n<!-- 4 -->\n<g id=\"node5\" class=\"node\">\n<title>4</title>\n<polygon fill=\"#ffffff\" stroke=\"#000000\" points=\"321,-187 184,-187 184,-104 321,-104 321,-187\"/>\n<text text-anchor=\"middle\" x=\"252.5\" y=\"-171.8\" font-family=\"Times,serif\" font-size=\"14.00\" fill=\"#000000\">Wind Speed &lt;= 1.44</text>\n<text text-anchor=\"middle\" x=\"252.5\" y=\"-156.8\" font-family=\"Times,serif\" font-size=\"14.00\" fill=\"#000000\">gini = 0.5</text>\n<text text-anchor=\"middle\" x=\"252.5\" y=\"-141.8\" font-family=\"Times,serif\" font-size=\"14.00\" fill=\"#000000\">samples = 2</text>\n<text text-anchor=\"middle\" x=\"252.5\" y=\"-126.8\" font-family=\"Times,serif\" font-size=\"14.00\" fill=\"#000000\">value = [1, 1]</text>\n<text text-anchor=\"middle\" x=\"252.5\" y=\"-111.8\" font-family=\"Times,serif\" font-size=\"14.00\" fill=\"#000000\">class = C</text>\n</g>\n<!-- 2&#45;&gt;4 -->\n<g id=\"edge4\" class=\"edge\">\n<title>2&#45;&gt;4</title>\n<path fill=\"none\" stroke=\"#000000\" d=\"M208.9333,-222.8796C213.8013,-214.2335 218.9819,-205.0322 224.0086,-196.1042\"/>\n<polygon fill=\"#000000\" stroke=\"#000000\" points=\"227.1103,-197.729 228.9666,-187.2981 221.0107,-194.2947 227.1103,-197.729\"/>\n</g>\n<!-- 5 -->\n<g id=\"node6\" class=\"node\">\n<title>5</title>\n<polygon fill=\"#399de5\" stroke=\"#000000\" points=\"243,-68 148,-68 148,0 243,0 243,-68\"/>\n<text text-anchor=\"middle\" x=\"195.5\" y=\"-52.8\" font-family=\"Times,serif\" font-size=\"14.00\" fill=\"#000000\">gini = 0.0</text>\n<text text-anchor=\"middle\" x=\"195.5\" y=\"-37.8\" font-family=\"Times,serif\" font-size=\"14.00\" fill=\"#000000\">samples = 1</text>\n<text text-anchor=\"middle\" x=\"195.5\" y=\"-22.8\" font-family=\"Times,serif\" font-size=\"14.00\" fill=\"#000000\">value = [0, 1]</text>\n<text text-anchor=\"middle\" x=\"195.5\" y=\"-7.8\" font-family=\"Times,serif\" font-size=\"14.00\" fill=\"#000000\">class = l</text>\n</g>\n<!-- 4&#45;&gt;5 -->\n<g id=\"edge5\" class=\"edge\">\n<title>4&#45;&gt;5</title>\n<path fill=\"none\" stroke=\"#000000\" d=\"M231.2753,-103.9815C226.8119,-95.2504 222.0933,-86.0202 217.5987,-77.2281\"/>\n<polygon fill=\"#000000\" stroke=\"#000000\" points=\"220.6842,-75.5745 213.016,-68.2637 214.4514,-78.7608 220.6842,-75.5745\"/>\n</g>\n<!-- 6 -->\n<g id=\"node7\" class=\"node\">\n<title>6</title>\n<polygon fill=\"#e58139\" stroke=\"#000000\" points=\"356,-68 261,-68 261,0 356,0 356,-68\"/>\n<text text-anchor=\"middle\" x=\"308.5\" y=\"-52.8\" font-family=\"Times,serif\" font-size=\"14.00\" fill=\"#000000\">gini = 0.0</text>\n<text text-anchor=\"middle\" x=\"308.5\" y=\"-37.8\" font-family=\"Times,serif\" font-size=\"14.00\" fill=\"#000000\">samples = 1</text>\n<text text-anchor=\"middle\" x=\"308.5\" y=\"-22.8\" font-family=\"Times,serif\" font-size=\"14.00\" fill=\"#000000\">value = [1, 0]</text>\n<text text-anchor=\"middle\" x=\"308.5\" y=\"-7.8\" font-family=\"Times,serif\" font-size=\"14.00\" fill=\"#000000\">class = C</text>\n</g>\n<!-- 4&#45;&gt;6 -->\n<g id=\"edge6\" class=\"edge\">\n<title>4&#45;&gt;6</title>\n<path fill=\"none\" stroke=\"#000000\" d=\"M273.3523,-103.9815C277.7375,-95.2504 282.3733,-86.0202 286.789,-77.2281\"/>\n<polygon fill=\"#000000\" stroke=\"#000000\" points=\"289.9308,-78.7708 291.2913,-68.2637 283.6754,-75.6291 289.9308,-78.7708\"/>\n</g>\n</g>\n</svg>\n"
          },
          "metadata": {
            "tags": []
          },
          "execution_count": 36
        }
      ]
    }
  ]
}