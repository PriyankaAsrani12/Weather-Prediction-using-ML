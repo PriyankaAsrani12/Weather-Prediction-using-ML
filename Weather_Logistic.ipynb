{
  "nbformat": 4,
  "nbformat_minor": 0,
  "metadata": {
    "colab": {
      "name": "Weather - Logistic.ipynb",
      "provenance": [],
      "collapsed_sections": []
    },
    "kernelspec": {
      "name": "python3",
      "display_name": "Python 3"
    },
    "language_info": {
      "name": "python"
    }
  },
  "cells": [
    {
      "cell_type": "markdown",
      "metadata": {
        "id": "Xc_lv2_02LRE"
      },
      "source": [
        "**Importing all libraries**"
      ]
    },
    {
      "cell_type": "code",
      "metadata": {
        "id": "faWZrFAHjzNy"
      },
      "source": [
        "import pandas as pd\n",
        "import numpy as np\n",
        "from sklearn.linear_model import LogisticRegression\n",
        "from sklearn.model_selection import train_test_split, cross_val_score\n",
        "from sklearn.metrics import confusion_matrix, accuracy_score, classification_report"
      ],
      "execution_count": null,
      "outputs": []
    },
    {
      "cell_type": "markdown",
      "metadata": {
        "id": "kt1_cnFoPM71"
      },
      "source": [
        "**Reading the dataset using pandas library**"
      ]
    },
    {
      "cell_type": "code",
      "metadata": {
        "colab": {
          "base_uri": "https://localhost:8080/",
          "height": 229
        },
        "id": "lnuFrfP9kLbO",
        "outputId": "e040078f-a8e1-4262-d57b-21e87ddca52e"
      },
      "source": [
        "dataset = pd.read_csv(\"Weather prediction dataset - Sheet1.csv\")\n",
        "print (\"Total number of rows in dataset: {}\\n\".format(len(dataset)))\n",
        "dataset.head()"
      ],
      "execution_count": null,
      "outputs": [
        {
          "output_type": "stream",
          "text": [
            "Total number of rows in dataset: 21\n",
            "\n"
          ],
          "name": "stdout"
        },
        {
          "output_type": "execute_result",
          "data": {
            "text/html": [
              "<div>\n",
              "<style scoped>\n",
              "    .dataframe tbody tr th:only-of-type {\n",
              "        vertical-align: middle;\n",
              "    }\n",
              "\n",
              "    .dataframe tbody tr th {\n",
              "        vertical-align: top;\n",
              "    }\n",
              "\n",
              "    .dataframe thead th {\n",
              "        text-align: right;\n",
              "    }\n",
              "</style>\n",
              "<table border=\"1\" class=\"dataframe\">\n",
              "  <thead>\n",
              "    <tr style=\"text-align: right;\">\n",
              "      <th></th>\n",
              "      <th>Day</th>\n",
              "      <th>Month</th>\n",
              "      <th>Year</th>\n",
              "      <th>Humidity</th>\n",
              "      <th>Max Temperature</th>\n",
              "      <th>Min Temperature</th>\n",
              "      <th>Rainfall</th>\n",
              "      <th>Sea Level Pressure</th>\n",
              "      <th>Sunshine</th>\n",
              "      <th>Wind Speed</th>\n",
              "      <th>Cloud</th>\n",
              "    </tr>\n",
              "  </thead>\n",
              "  <tbody>\n",
              "    <tr>\n",
              "      <th>0</th>\n",
              "      <td>1</td>\n",
              "      <td>1</td>\n",
              "      <td>1988</td>\n",
              "      <td>77</td>\n",
              "      <td>26.7</td>\n",
              "      <td>12.9</td>\n",
              "      <td>0</td>\n",
              "      <td>1016.9</td>\n",
              "      <td>8.4</td>\n",
              "      <td>0.0</td>\n",
              "      <td>0</td>\n",
              "    </tr>\n",
              "    <tr>\n",
              "      <th>1</th>\n",
              "      <td>2</td>\n",
              "      <td>1</td>\n",
              "      <td>1988</td>\n",
              "      <td>76</td>\n",
              "      <td>26.0</td>\n",
              "      <td>12.9</td>\n",
              "      <td>0</td>\n",
              "      <td>1016.4</td>\n",
              "      <td>8.4</td>\n",
              "      <td>0.0</td>\n",
              "      <td>0</td>\n",
              "    </tr>\n",
              "    <tr>\n",
              "      <th>2</th>\n",
              "      <td>3</td>\n",
              "      <td>1</td>\n",
              "      <td>1988</td>\n",
              "      <td>73</td>\n",
              "      <td>27.5</td>\n",
              "      <td>14.5</td>\n",
              "      <td>0</td>\n",
              "      <td>1014.8</td>\n",
              "      <td>7.8</td>\n",
              "      <td>2.0</td>\n",
              "      <td>1</td>\n",
              "    </tr>\n",
              "    <tr>\n",
              "      <th>3</th>\n",
              "      <td>4</td>\n",
              "      <td>1</td>\n",
              "      <td>1988</td>\n",
              "      <td>71</td>\n",
              "      <td>27.2</td>\n",
              "      <td>15.8</td>\n",
              "      <td>0</td>\n",
              "      <td>1015.9</td>\n",
              "      <td>6.4</td>\n",
              "      <td>5.0</td>\n",
              "      <td>1</td>\n",
              "    </tr>\n",
              "    <tr>\n",
              "      <th>4</th>\n",
              "      <td>5</td>\n",
              "      <td>1</td>\n",
              "      <td>1988</td>\n",
              "      <td>75</td>\n",
              "      <td>27.8</td>\n",
              "      <td>15.4</td>\n",
              "      <td>0</td>\n",
              "      <td>1016.1</td>\n",
              "      <td>8.0</td>\n",
              "      <td>3.5</td>\n",
              "      <td>1</td>\n",
              "    </tr>\n",
              "  </tbody>\n",
              "</table>\n",
              "</div>"
            ],
            "text/plain": [
              "   Day  Month  Year  Humidity  ...  Sea Level Pressure  Sunshine  Wind Speed  Cloud\n",
              "0    1      1  1988        77  ...              1016.9       8.4         0.0      0\n",
              "1    2      1  1988        76  ...              1016.4       8.4         0.0      0\n",
              "2    3      1  1988        73  ...              1014.8       7.8         2.0      1\n",
              "3    4      1  1988        71  ...              1015.9       6.4         5.0      1\n",
              "4    5      1  1988        75  ...              1016.1       8.0         3.5      1\n",
              "\n",
              "[5 rows x 11 columns]"
            ]
          },
          "metadata": {
            "tags": []
          },
          "execution_count": 3
        }
      ]
    },
    {
      "cell_type": "markdown",
      "metadata": {
        "id": "J8pJ5h7gPQNw"
      },
      "source": [
        "**Declaring the target variable which is to be predicted and the remaining features from the dataset**"
      ]
    },
    {
      "cell_type": "code",
      "metadata": {
        "id": "snHd2qlikNdb"
      },
      "source": [
        "features = ['Day','Month','Year','Humidity','Max Temperature','Min Temperature',\n",
        "            'Rainfall','Sea Level Pressure','Sunshine','Wind Speed']\n",
        "target = 'Cloud'"
      ],
      "execution_count": null,
      "outputs": []
    },
    {
      "cell_type": "markdown",
      "metadata": {
        "id": "-ucTBEWiPUtf"
      },
      "source": [
        "**Splitting the dataset into train and test dataset in the ratio 70:30**"
      ]
    },
    {
      "cell_type": "code",
      "metadata": {
        "id": "sBAOB81qkQjd"
      },
      "source": [
        "x_train, x_test, y_train, y_test = train_test_split(dataset[features], dataset[target],\n",
        "                                                     test_size=0.3, random_state=42)"
      ],
      "execution_count": null,
      "outputs": []
    },
    {
      "cell_type": "markdown",
      "metadata": {
        "id": "PYCLjEPRPp4I"
      },
      "source": [
        "**Printing length of training set**"
      ]
    },
    {
      "cell_type": "code",
      "metadata": {
        "colab": {
          "base_uri": "https://localhost:8080/"
        },
        "id": "qLt1SSedkUGZ",
        "outputId": "6c06a47f-e67e-4c63-8db0-aba06e49c3ae"
      },
      "source": [
        "print(\"X_train: {}, X_test: {}\".format(len(x_train), len(x_test)))\n",
        "print(\"Y_train: {}, Y_test: {}\".format(len(y_train), len(y_test)))"
      ],
      "execution_count": null,
      "outputs": [
        {
          "output_type": "stream",
          "text": [
            "X_train: 14, X_test: 7\n",
            "Y_train: 14, Y_test: 7\n"
          ],
          "name": "stdout"
        }
      ]
    },
    {
      "cell_type": "markdown",
      "metadata": {
        "id": "F-aO4bFjPULd"
      },
      "source": [
        "**Since the data is in different units we standardise it using the StandardScaler library The idea behind StandardScaler is that it will transform your data such that its distribution will have a mean value 0 and standard deviation of 1.**"
      ]
    },
    {
      "cell_type": "code",
      "metadata": {
        "id": "_KY0-Tp3q2Bo",
        "colab": {
          "base_uri": "https://localhost:8080/"
        },
        "outputId": "545474c2-39b7-47b8-b707-533bd485c524"
      },
      "source": [
        "from sklearn.preprocessing import StandardScaler    \n",
        "st_x= StandardScaler()    \n",
        "x_train= st_x.fit_transform(x_train)    \n",
        "x_test= st_x.transform(x_test)  \n",
        "print(x_train)"
      ],
      "execution_count": null,
      "outputs": [
        {
          "output_type": "stream",
          "text": [
            "[[-1.36414704  0.          0.         -1.08458937  0.02435405  1.44049787\n",
            "   0.          0.58381938 -2.88188704  1.88702608]\n",
            " [ 1.21667168  0.          0.         -0.6952496  -0.65755938 -1.55869256\n",
            "   0.         -1.12517917  1.18286408  0.02220031]\n",
            " [ 0.87256252  0.          0.         -1.86326892 -2.19186461  0.50971463\n",
            "   0.          0.95534081  0.88177141  0.02220031]\n",
            " [ 0.35639878  0.          0.          1.25144928  0.53578913  1.44049787\n",
            "   0.         -0.90226632 -0.47314563  1.88702608]\n",
            " [-1.53620162  0.          0.         -0.30590982  0.53578913  0.09603319\n",
            "   0.         -0.23352775 -0.77423831  0.02220031]\n",
            " [-0.33181955  0.          0.          1.25144928 -0.65755938 -0.31764825\n",
            "   0.          1.17825366  0.73122507  0.02220031]\n",
            " [ 1.56078085  0.          0.         -1.08458937 -0.31660267 -1.66211292\n",
            "   0.         -2.01683059  0.43013239  0.02220031]\n",
            " [-1.19209246  0.          0.          0.47276973  1.0472242   1.02681643\n",
            "   0.          0.73242795 -0.47314563  0.95461319]\n",
            " [ 0.18434419  0.          0.          0.47276973  2.24057271 -0.21422789\n",
            "   0.         -0.82796203  0.27958606  0.02220031]\n",
            " [-0.67592871  0.          0.          1.64078905 -0.65755938 -0.42106861\n",
            "   0.          0.80673224 -0.47314563 -1.22101687]\n",
            " [-0.15976497  0.          0.          0.08342995  0.02435405 -1.14501113\n",
            "   0.          1.40116652 -0.17205296  0.02220031]\n",
            " [ 0.52845336  0.          0.         -0.30590982  0.53578913 -0.00738717\n",
            "   0.          0.58381938  0.58067873 -1.22101687]\n",
            " [ 1.38872627  0.          0.         -0.6952496  -0.82803774 -0.42106861\n",
            "   0.         -0.9765706   1.03231774 -1.22101687]\n",
            " [-0.84798329  0.          0.          0.8621095   0.36531077  1.23365715\n",
            "   0.         -0.15922347  0.12903972 -1.22101687]]\n"
          ],
          "name": "stdout"
        }
      ]
    },
    {
      "cell_type": "markdown",
      "metadata": {
        "id": "udna3DeHPuFF"
      },
      "source": [
        "**Training the Logistic Regression model with x_train and y_train**"
      ]
    },
    {
      "cell_type": "code",
      "metadata": {
        "colab": {
          "base_uri": "https://localhost:8080/"
        },
        "id": "ZS6EkMWdkW4K",
        "outputId": "85c4964f-6f9d-4087-9b05-551f0ccd3de2"
      },
      "source": [
        "model = LogisticRegression()\n",
        "model.fit(x_train, y_train)"
      ],
      "execution_count": null,
      "outputs": [
        {
          "output_type": "execute_result",
          "data": {
            "text/plain": [
              "LogisticRegression(C=1.0, class_weight=None, dual=False, fit_intercept=True,\n",
              "                   intercept_scaling=1, l1_ratio=None, max_iter=100,\n",
              "                   multi_class='auto', n_jobs=None, penalty='l2',\n",
              "                   random_state=None, solver='lbfgs', tol=0.0001, verbose=0,\n",
              "                   warm_start=False)"
            ]
          },
          "metadata": {
            "tags": []
          },
          "execution_count": 8
        }
      ]
    },
    {
      "cell_type": "markdown",
      "metadata": {
        "id": "2P07NFgWP2fk"
      },
      "source": [
        "**Printed the training accuracy and testing accuracy**"
      ]
    },
    {
      "cell_type": "code",
      "metadata": {
        "colab": {
          "base_uri": "https://localhost:8080/"
        },
        "id": "SciRymQukb2z",
        "outputId": "cef74bb0-b8ed-418d-a0c1-e01c76e2739e"
      },
      "source": [
        "print(\"Showing Performance Metrics for Logistic Regression\\n\")\n",
        "\n",
        "print (\"Training Accuracy: {}\".format(model.score(x_train, y_train)))\n",
        "predicted = model.predict(x_test)\n",
        "print (\"Testing Accuracy: {}\".format(accuracy_score(y_test, predicted)))"
      ],
      "execution_count": null,
      "outputs": [
        {
          "output_type": "stream",
          "text": [
            "Showing Performance Metrics for Logistic Regression\n",
            "\n",
            "Training Accuracy: 1.0\n",
            "Testing Accuracy: 0.8571428571428571\n"
          ],
          "name": "stdout"
        }
      ]
    },
    {
      "cell_type": "markdown",
      "metadata": {
        "id": "vgAr8YK2P6aT"
      },
      "source": [
        "**Printing the Cross Validation accuracy after 2 folds**"
      ]
    },
    {
      "cell_type": "code",
      "metadata": {
        "id": "6VH1tN-_klIn",
        "colab": {
          "base_uri": "https://localhost:8080/"
        },
        "outputId": "89dd52b2-bb02-4a80-e79c-74facb3afbd2"
      },
      "source": [
        "print(\"Cross Validation Accuracy: \\n\")\n",
        "cv_accuracy = cross_val_score(estimator=model, X=x_train, y=y_train, cv=2)\n",
        "print(\"Accuracy using 2 folds: \")\n",
        "print(cv_accuracy)"
      ],
      "execution_count": null,
      "outputs": [
        {
          "output_type": "stream",
          "text": [
            "Cross Validation Accuracy: \n",
            "\n",
            "Accuracy using 2 folds: \n",
            "[0.85714286 1.        ]\n"
          ],
          "name": "stdout"
        }
      ]
    },
    {
      "cell_type": "markdown",
      "metadata": {
        "id": "dfM-2845QBnp"
      },
      "source": [
        "**Printing the Mean Accuracy and Standard Deviation**"
      ]
    },
    {
      "cell_type": "code",
      "metadata": {
        "colab": {
          "base_uri": "https://localhost:8080/"
        },
        "id": "QFmTFxuQE_Te",
        "outputId": "e63ea381-d83b-4f70-c18d-093784ae14dc"
      },
      "source": [
        "print(\"Mean accuracy: {}\".format(cv_accuracy.mean()))\n",
        "print(\"Standard Deviation: {}\".format(cv_accuracy.std()))"
      ],
      "execution_count": null,
      "outputs": [
        {
          "output_type": "stream",
          "text": [
            "Mean accuracy: 0.9285714285714286\n",
            "Standard Deviation: 0.07142857142857145\n"
          ],
          "name": "stdout"
        }
      ]
    },
    {
      "cell_type": "markdown",
      "metadata": {
        "id": "Wm25D71HQH89"
      },
      "source": [
        "**Plotted the confusion matrix for it**"
      ]
    },
    {
      "cell_type": "code",
      "metadata": {
        "colab": {
          "base_uri": "https://localhost:8080/"
        },
        "id": "yHwyE7XYFC7d",
        "outputId": "c023600f-bda7-4392-b872-2f607ac66d42"
      },
      "source": [
        "print(\"Confusion Matrix for Logistic Regression\\n\")\n",
        "\n",
        "cm = confusion_matrix(y_test, predicted)\n",
        "print(cm)"
      ],
      "execution_count": null,
      "outputs": [
        {
          "output_type": "stream",
          "text": [
            "Confusion Matrix for Logistic Regression\n",
            "\n",
            "[[5 0]\n",
            " [1 1]]\n"
          ],
          "name": "stdout"
        }
      ]
    },
    {
      "cell_type": "markdown",
      "metadata": {
        "id": "tXFQv5_MQLkz"
      },
      "source": [
        "**Displayed the classification report with parameters like precision , recall , f1-score and accuracy of the model**"
      ]
    },
    {
      "cell_type": "code",
      "metadata": {
        "colab": {
          "base_uri": "https://localhost:8080/"
        },
        "id": "vUrS9HlNFGzU",
        "outputId": "c4339b67-b556-476f-d90f-6f7c68c7e207"
      },
      "source": [
        "print('Precision, Recall and f-1 Scores for Logistic Regression\\n')\n",
        "print(classification_report(y_test, predicted))"
      ],
      "execution_count": null,
      "outputs": [
        {
          "output_type": "stream",
          "text": [
            "Precision, Recall and f-1 Scores for Logistic Regression\n",
            "\n",
            "              precision    recall  f1-score   support\n",
            "\n",
            "           0       0.83      1.00      0.91         5\n",
            "           1       1.00      0.50      0.67         2\n",
            "\n",
            "    accuracy                           0.86         7\n",
            "   macro avg       0.92      0.75      0.79         7\n",
            "weighted avg       0.88      0.86      0.84         7\n",
            "\n"
          ],
          "name": "stdout"
        }
      ]
    },
    {
      "cell_type": "markdown",
      "metadata": {
        "id": "I20pnsOOQPlg"
      },
      "source": [
        "**Plotted the graphical confusion martix**"
      ]
    },
    {
      "cell_type": "code",
      "metadata": {
        "colab": {
          "base_uri": "https://localhost:8080/",
          "height": 334
        },
        "id": "zNAqknd8rBAn",
        "outputId": "35aabb52-c4fc-475e-e6e7-8bf31c4f0074"
      },
      "source": [
        "import matplotlib.pyplot as plt\n",
        "from sklearn.metrics import confusion_matrix,accuracy_score,plot_confusion_matrix\n",
        "cm = confusion_matrix(y_test,predicted)\n",
        "acc = accuracy_score(y_test,predicted)\n",
        "print(cm)\n",
        "print(acc)\n",
        "plot_confusion_matrix(model,x_test,y_test,cmap=plt.cm.Blues)\n",
        "plt.show()"
      ],
      "execution_count": null,
      "outputs": [
        {
          "output_type": "stream",
          "text": [
            "[[5 0]\n",
            " [1 1]]\n",
            "0.8571428571428571\n"
          ],
          "name": "stdout"
        },
        {
          "output_type": "display_data",
          "data": {
            "image/png": "[encoded data removed]",
            "text/plain": [
              "<Figure size 432x288 with 2 Axes>"
            ]
          },
          "metadata": {
            "tags": [],
            "needs_background": "light"
          }
        }
      ]
    }
  ]
}