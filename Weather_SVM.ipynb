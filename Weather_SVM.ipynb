{
  "nbformat": 4,
  "nbformat_minor": 0,
  "metadata": {
    "colab": {
      "name": "Weather-SVM.ipynb",
      "provenance": [],
      "collapsed_sections": []
    },
    "kernelspec": {
      "name": "python3",
      "display_name": "Python 3"
    },
    "language_info": {
      "name": "python"
    }
  },
  "cells": [
    {
      "cell_type": "markdown",
      "metadata": {
        "id": "hiAC1X9Q7Mjl"
      },
      "source": [
        "**Importing all the required libraries**\n"
      ]
    },
    {
      "cell_type": "code",
      "metadata": {
        "id": "wVV3NBnts2LB"
      },
      "source": [
        "import pandas as pd\n",
        "import numpy as np\n",
        "import matplotlib.pyplot as plt\n",
        "from sklearn import svm\n",
        "from sklearn.model_selection import train_test_split, cross_val_score\n",
        "from sklearn.metrics import confusion_matrix, accuracy_score, classification_report,plot_confusion_matrix"
      ],
      "execution_count": 1,
      "outputs": []
    },
    {
      "cell_type": "markdown",
      "metadata": {
        "id": "eN8fVk3d7GKm"
      },
      "source": [
        "**Reading the dataset using pandas library**"
      ]
    },
    {
      "cell_type": "code",
      "metadata": {
        "colab": {
          "base_uri": "https://localhost:8080/",
          "height": 195
        },
        "id": "p3PEnrzAs8VI",
        "outputId": "c8a03142-4502-4004-a8c0-725e231b50f0"
      },
      "source": [
        "dataset=pd.read_csv('Weather prediction dataset - Sheet1.csv')\n",
        "dataset.head()"
      ],
      "execution_count": 2,
      "outputs": [
        {
          "output_type": "execute_result",
          "data": {
            "text/html": [
              "<div>\n",
              "<style scoped>\n",
              "    .dataframe tbody tr th:only-of-type {\n",
              "        vertical-align: middle;\n",
              "    }\n",
              "\n",
              "    .dataframe tbody tr th {\n",
              "        vertical-align: top;\n",
              "    }\n",
              "\n",
              "    .dataframe thead th {\n",
              "        text-align: right;\n",
              "    }\n",
              "</style>\n",
              "<table border=\"1\" class=\"dataframe\">\n",
              "  <thead>\n",
              "    <tr style=\"text-align: right;\">\n",
              "      <th></th>\n",
              "      <th>Day</th>\n",
              "      <th>Month</th>\n",
              "      <th>Year</th>\n",
              "      <th>Humidity</th>\n",
              "      <th>Max Temperature</th>\n",
              "      <th>Min Temperature</th>\n",
              "      <th>Rainfall</th>\n",
              "      <th>Sea Level Pressure</th>\n",
              "      <th>Sunshine</th>\n",
              "      <th>Wind Speed</th>\n",
              "      <th>Cloud</th>\n",
              "    </tr>\n",
              "  </thead>\n",
              "  <tbody>\n",
              "    <tr>\n",
              "      <th>0</th>\n",
              "      <td>1</td>\n",
              "      <td>1</td>\n",
              "      <td>1988</td>\n",
              "      <td>77</td>\n",
              "      <td>26.7</td>\n",
              "      <td>12.9</td>\n",
              "      <td>0</td>\n",
              "      <td>1016.9</td>\n",
              "      <td>8.4</td>\n",
              "      <td>0.0</td>\n",
              "      <td>0</td>\n",
              "    </tr>\n",
              "    <tr>\n",
              "      <th>1</th>\n",
              "      <td>2</td>\n",
              "      <td>1</td>\n",
              "      <td>1988</td>\n",
              "      <td>76</td>\n",
              "      <td>26.0</td>\n",
              "      <td>12.9</td>\n",
              "      <td>0</td>\n",
              "      <td>1016.4</td>\n",
              "      <td>8.4</td>\n",
              "      <td>0.0</td>\n",
              "      <td>0</td>\n",
              "    </tr>\n",
              "    <tr>\n",
              "      <th>2</th>\n",
              "      <td>3</td>\n",
              "      <td>1</td>\n",
              "      <td>1988</td>\n",
              "      <td>73</td>\n",
              "      <td>27.5</td>\n",
              "      <td>14.5</td>\n",
              "      <td>0</td>\n",
              "      <td>1014.8</td>\n",
              "      <td>7.8</td>\n",
              "      <td>2.0</td>\n",
              "      <td>1</td>\n",
              "    </tr>\n",
              "    <tr>\n",
              "      <th>3</th>\n",
              "      <td>4</td>\n",
              "      <td>1</td>\n",
              "      <td>1988</td>\n",
              "      <td>71</td>\n",
              "      <td>27.2</td>\n",
              "      <td>15.8</td>\n",
              "      <td>0</td>\n",
              "      <td>1015.9</td>\n",
              "      <td>6.4</td>\n",
              "      <td>5.0</td>\n",
              "      <td>1</td>\n",
              "    </tr>\n",
              "    <tr>\n",
              "      <th>4</th>\n",
              "      <td>5</td>\n",
              "      <td>1</td>\n",
              "      <td>1988</td>\n",
              "      <td>75</td>\n",
              "      <td>27.8</td>\n",
              "      <td>15.4</td>\n",
              "      <td>0</td>\n",
              "      <td>1016.1</td>\n",
              "      <td>8.0</td>\n",
              "      <td>3.5</td>\n",
              "      <td>1</td>\n",
              "    </tr>\n",
              "  </tbody>\n",
              "</table>\n",
              "</div>"
            ],
            "text/plain": [
              "   Day  Month  Year  Humidity  ...  Sea Level Pressure  Sunshine  Wind Speed  Cloud\n",
              "0    1      1  1988        77  ...              1016.9       8.4         0.0      0\n",
              "1    2      1  1988        76  ...              1016.4       8.4         0.0      0\n",
              "2    3      1  1988        73  ...              1014.8       7.8         2.0      1\n",
              "3    4      1  1988        71  ...              1015.9       6.4         5.0      1\n",
              "4    5      1  1988        75  ...              1016.1       8.0         3.5      1\n",
              "\n",
              "[5 rows x 11 columns]"
            ]
          },
          "metadata": {
            "tags": []
          },
          "execution_count": 2
        }
      ]
    },
    {
      "cell_type": "markdown",
      "metadata": {
        "id": "bXOM3K2w6_2y"
      },
      "source": [
        "**Declaring the target variable which is to be predicted and the remaining features from the dataset**"
      ]
    },
    {
      "cell_type": "code",
      "metadata": {
        "id": "SEb9OXzQs_EJ"
      },
      "source": [
        "features = ['Day','Month','Year','Humidity','Max Temperature','Min Temperature',\n",
        "            'Rainfall','Sea Level Pressure','Sunshine','Wind Speed']\n",
        "target = 'Cloud'"
      ],
      "execution_count": 3,
      "outputs": []
    },
    {
      "cell_type": "markdown",
      "metadata": {
        "id": "k33GUySJ66WV"
      },
      "source": [
        "**Splitting the dataset into train and test dataset in the ratio 80:20**"
      ]
    },
    {
      "cell_type": "code",
      "metadata": {
        "id": "I7VcTcRVtHHp"
      },
      "source": [
        "from sklearn.model_selection import train_test_split\n",
        "x_train, x_test, y_train, y_test = train_test_split(dataset[features], dataset[target],\n",
        "                                                   test_size=0.2, random_state=42)"
      ],
      "execution_count": 4,
      "outputs": []
    },
    {
      "cell_type": "markdown",
      "metadata": {
        "id": "hEleqUKC61mT"
      },
      "source": [
        "**Since the data is in different units we standardise it using the StandardScaler library The idea behind StandardScaler is that it will transform your data such that its distribution will have a mean value 0 and standard deviation of 1.**"
      ]
    },
    {
      "cell_type": "code",
      "metadata": {
        "id": "VJkggVPDtYr4"
      },
      "source": [
        "from sklearn.preprocessing import StandardScaler    \n",
        "st_x= StandardScaler()    \n",
        "x_train= st_x.fit_transform(x_train)    \n",
        "x_test= st_x.transform(x_test)  "
      ],
      "execution_count": 5,
      "outputs": []
    },
    {
      "cell_type": "markdown",
      "metadata": {
        "id": "YSLRiGBM7Vhh"
      },
      "source": [
        "**We have used SupportVectorClassifier to classify the target variable ie cloudy , which would classify as cloudy-1 or not cloudy 0. We have used ther RBF kernal as it is the most common used kernel**"
      ]
    },
    {
      "cell_type": "code",
      "metadata": {
        "colab": {
          "base_uri": "https://localhost:8080/"
        },
        "id": "0mJH_zdMtJVv",
        "outputId": "f895cbe7-0cde-4928-f664-410dc81478ce"
      },
      "source": [
        "model = svm.SVC(kernel='rbf', random_state=42)\n",
        "model.fit(x_train, y_train)"
      ],
      "execution_count": 6,
      "outputs": [
        {
          "output_type": "execute_result",
          "data": {
            "text/plain": [
              "SVC(C=1.0, break_ties=False, cache_size=200, class_weight=None, coef0=0.0,\n",
              "    decision_function_shape='ovr', degree=3, gamma='scale', kernel='rbf',\n",
              "    max_iter=-1, probability=False, random_state=42, shrinking=True, tol=0.001,\n",
              "    verbose=False)"
            ]
          },
          "metadata": {
            "tags": []
          },
          "execution_count": 6
        }
      ]
    },
    {
      "cell_type": "markdown",
      "metadata": {
        "id": "WVTsHP9hJulz"
      },
      "source": [
        "**Printed the training accuracy and testing accuracy**"
      ]
    },
    {
      "cell_type": "code",
      "metadata": {
        "colab": {
          "base_uri": "https://localhost:8080/"
        },
        "id": "FvhO0PSEtR_T",
        "outputId": "ba66b623-cab9-49d4-8f1a-cd55ba28492f"
      },
      "source": [
        "print(\"Showing Performance Metrics for Support Vector Machine\\n\")\n",
        "print (\"Training Accuracy: {}\".format(model.score(x_train, y_train)))\n",
        "predicted = model.predict(x_test)\n",
        "print (\"Testing Accuracy: {}\".format(accuracy_score(y_test, predicted)))\n",
        "print(\"\\n\")"
      ],
      "execution_count": 7,
      "outputs": [
        {
          "output_type": "stream",
          "text": [
            "Showing Performance Metrics for Support Vector Machine\n",
            "\n",
            "Training Accuracy: 1.0\n",
            "Testing Accuracy: 0.8\n",
            "\n",
            "\n"
          ],
          "name": "stdout"
        }
      ]
    },
    {
      "cell_type": "markdown",
      "metadata": {
        "id": "V7nhlm7FJ27e"
      },
      "source": [
        "**Plotted the confusion matrix for it**"
      ]
    },
    {
      "cell_type": "code",
      "metadata": {
        "colab": {
          "base_uri": "https://localhost:8080/"
        },
        "id": "0igNg7xitoje",
        "outputId": "f12e20d9-6cb2-443e-875d-2a1423832eee"
      },
      "source": [
        "print(\"Confusion Matrix for Support Vector Machine\\n\")\n",
        "cm = confusion_matrix(y_test, predicted)\n",
        "print(cm)\n",
        "\n",
        "print(\"\\n\")"
      ],
      "execution_count": 8,
      "outputs": [
        {
          "output_type": "stream",
          "text": [
            "Confusion Matrix for Support Vector Machine\n",
            "\n",
            "[[4 0]\n",
            " [1 0]]\n",
            "\n",
            "\n"
          ],
          "name": "stdout"
        }
      ]
    },
    {
      "cell_type": "markdown",
      "metadata": {
        "id": "tE3lwrF7J8xl"
      },
      "source": [
        "**Displayed the classification report with parameters like precision , recall , f1-score and accuracy of the model**"
      ]
    },
    {
      "cell_type": "code",
      "metadata": {
        "colab": {
          "base_uri": "https://localhost:8080/"
        },
        "id": "WX0eUj1dtuHz",
        "outputId": "af8ecf9e-c141-4fbc-d63f-e4ef23dbb012"
      },
      "source": [
        "print('Precision, Recall and f-1 Scores for Support Vector Machine\\n')\n",
        "print(classification_report(y_test, predicted))"
      ],
      "execution_count": 9,
      "outputs": [
        {
          "output_type": "stream",
          "text": [
            "Precision, Recall and f-1 Scores for Support Vector Machine\n",
            "\n",
            "              precision    recall  f1-score   support\n",
            "\n",
            "           0       0.80      1.00      0.89         4\n",
            "           1       0.00      0.00      0.00         1\n",
            "\n",
            "    accuracy                           0.80         5\n",
            "   macro avg       0.40      0.50      0.44         5\n",
            "weighted avg       0.64      0.80      0.71         5\n",
            "\n"
          ],
          "name": "stdout"
        },
        {
          "output_type": "stream",
          "text": [
            "/usr/local/lib/python3.7/dist-packages/sklearn/metrics/_classification.py:1272: UndefinedMetricWarning: Precision and F-score are ill-defined and being set to 0.0 in labels with no predicted samples. Use `zero_division` parameter to control this behavior.\n",
            "  _warn_prf(average, modifier, msg_start, len(result))\n"
          ],
          "name": "stderr"
        }
      ]
    },
    {
      "cell_type": "markdown",
      "metadata": {
        "id": "Isu9aOPiJ_Mr"
      },
      "source": [
        "**Plotted the graphical confusion martix**"
      ]
    },
    {
      "cell_type": "code",
      "metadata": {
        "colab": {
          "base_uri": "https://localhost:8080/",
          "height": 300
        },
        "id": "XpYj5gy4t2rG",
        "outputId": "f5fafec2-fa46-48da-8b34-9591a35ea51d"
      },
      "source": [
        "plot_confusion_matrix(model,x_test,y_test,cmap=plt.cm.Blues)"
      ],
      "execution_count": 10,
      "outputs": [
        {
          "output_type": "execute_result",
          "data": {
            "text/plain": [
              "<sklearn.metrics._plot.confusion_matrix.ConfusionMatrixDisplay at 0x7f8404501310>"
            ]
          },
          "metadata": {
            "tags": []
          },
          "execution_count": 10
        },
        {
          "output_type": "display_data",
          "data": {
            "image/png": "[encoded data removed]",
            "text/plain": [
              "<Figure size 432x288 with 2 Axes>"
            ]
          },
          "metadata": {
            "tags": [],
            "needs_background": "light"
          }
        }
      ]
    }
  ]
}